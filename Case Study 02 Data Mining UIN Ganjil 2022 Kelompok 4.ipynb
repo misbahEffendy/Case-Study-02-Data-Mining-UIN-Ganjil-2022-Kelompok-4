{
  "nbformat": 4,
  "nbformat_minor": 0,
  "metadata": {
    "colab": {
      "provenance": [],
      "authorship_tag": "ABX9TyNBP31SwzUDRyTzd45vX6l2",
      "include_colab_link": true
    },
    "kernelspec": {
      "name": "python3",
      "display_name": "Python 3"
    },
    "language_info": {
      "name": "python"
    }
  },
  "cells": [
    {
      "cell_type": "markdown",
      "metadata": {
        "id": "view-in-github",
        "colab_type": "text"
      },
      "source": [
        "<a href=\"https://colab.research.google.com/github/misbahEffendy/Case-Study-02-Data-Mining-UIN-Ganjil-2022-Kelompok-4/blob/main/Case%20Study%2002%20Data%20Mining%20UIN%20Ganjil%202022%20Kelompok%204.ipynb\" target=\"_parent\"><img src=\"https://colab.research.google.com/assets/colab-badge.svg\" alt=\"Open In Colab\"/></a>"
      ]
    },
    {
      "cell_type": "code",
      "execution_count": null,
      "metadata": {
        "id": "Mw69xyryJ9IQ"
      },
      "outputs": [],
      "source": []
    }
  ]
}